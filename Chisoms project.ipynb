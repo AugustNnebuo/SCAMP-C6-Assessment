{
 "cells": [
  {
   "cell_type": "code",
   "execution_count": 2,
   "metadata": {},
   "outputs": [
    {
     "name": "stderr",
     "output_type": "stream",
     "text": [
      "C:\\Users\\HP ELITEBOOK\\Anaconda3\\lib\\site-packages\\pandas\\compat\\_optional.py:138: UserWarning: Pandas requires version '2.7.0' or newer of 'numexpr' (version '2.6.9' currently installed).\n",
      "  warnings.warn(msg, UserWarning)\n"
     ]
    }
   ],
   "source": [
    "#getting the data from github repository\n",
    "import requests\n",
    "import pandas as pd\n",
    "url ='https://raw.githubusercontent.com/she-code-africa/SCAMP-Cohort6-Technical-Assessment/master/intermediate/fake_job_postings.csv'\n",
    "res = requests.get(url, allow_redirects=True)\n",
    "with open('fake_job_postings.csv','wb') as file:\n",
    "    file.write(res.content)\n"
   ]
  },
  {
   "cell_type": "code",
   "execution_count": 8,
   "metadata": {},
   "outputs": [
    {
     "data": {
      "text/html": [
       "<div>\n",
       "<style scoped>\n",
       "    .dataframe tbody tr th:only-of-type {\n",
       "        vertical-align: middle;\n",
       "    }\n",
       "\n",
       "    .dataframe tbody tr th {\n",
       "        vertical-align: top;\n",
       "    }\n",
       "\n",
       "    .dataframe thead th {\n",
       "        text-align: right;\n",
       "    }\n",
       "</style>\n",
       "<table border=\"1\" class=\"dataframe\">\n",
       "  <thead>\n",
       "    <tr style=\"text-align: right;\">\n",
       "      <th></th>\n",
       "      <th>job_id</th>\n",
       "      <th>title</th>\n",
       "      <th>location</th>\n",
       "      <th>department</th>\n",
       "      <th>salary_range</th>\n",
       "      <th>company_profile</th>\n",
       "      <th>description</th>\n",
       "      <th>requirements</th>\n",
       "      <th>benefits</th>\n",
       "      <th>telecommuting</th>\n",
       "      <th>has_company_logo</th>\n",
       "      <th>has_questions</th>\n",
       "      <th>employment_type</th>\n",
       "      <th>required_experience</th>\n",
       "      <th>required_education</th>\n",
       "      <th>industry</th>\n",
       "      <th>function</th>\n",
       "      <th>fraudulent</th>\n",
       "    </tr>\n",
       "  </thead>\n",
       "  <tbody>\n",
       "    <tr>\n",
       "      <th>0</th>\n",
       "      <td>1</td>\n",
       "      <td>Marketing Intern</td>\n",
       "      <td>US, NY, New York</td>\n",
       "      <td>Marketing</td>\n",
       "      <td>NaN</td>\n",
       "      <td>We're Food52, and we've created a groundbreaki...</td>\n",
       "      <td>Food52, a fast-growing, James Beard Award-winn...</td>\n",
       "      <td>Experience with content management systems a m...</td>\n",
       "      <td>NaN</td>\n",
       "      <td>0</td>\n",
       "      <td>1</td>\n",
       "      <td>0</td>\n",
       "      <td>Other</td>\n",
       "      <td>Internship</td>\n",
       "      <td>NaN</td>\n",
       "      <td>NaN</td>\n",
       "      <td>Marketing</td>\n",
       "      <td>0</td>\n",
       "    </tr>\n",
       "    <tr>\n",
       "      <th>1</th>\n",
       "      <td>2</td>\n",
       "      <td>Customer Service - Cloud Video Production</td>\n",
       "      <td>NZ, , Auckland</td>\n",
       "      <td>Success</td>\n",
       "      <td>NaN</td>\n",
       "      <td>90 Seconds, the worlds Cloud Video Production ...</td>\n",
       "      <td>Organised - Focused - Vibrant - Awesome!Do you...</td>\n",
       "      <td>What we expect from you:Your key responsibilit...</td>\n",
       "      <td>What you will get from usThrough being part of...</td>\n",
       "      <td>0</td>\n",
       "      <td>1</td>\n",
       "      <td>0</td>\n",
       "      <td>Full-time</td>\n",
       "      <td>Not Applicable</td>\n",
       "      <td>NaN</td>\n",
       "      <td>Marketing and Advertising</td>\n",
       "      <td>Customer Service</td>\n",
       "      <td>0</td>\n",
       "    </tr>\n",
       "    <tr>\n",
       "      <th>2</th>\n",
       "      <td>3</td>\n",
       "      <td>Commissioning Machinery Assistant (CMA)</td>\n",
       "      <td>US, IA, Wever</td>\n",
       "      <td>NaN</td>\n",
       "      <td>NaN</td>\n",
       "      <td>Valor Services provides Workforce Solutions th...</td>\n",
       "      <td>Our client, located in Houston, is actively se...</td>\n",
       "      <td>Implement pre-commissioning and commissioning ...</td>\n",
       "      <td>NaN</td>\n",
       "      <td>0</td>\n",
       "      <td>1</td>\n",
       "      <td>0</td>\n",
       "      <td>NaN</td>\n",
       "      <td>NaN</td>\n",
       "      <td>NaN</td>\n",
       "      <td>NaN</td>\n",
       "      <td>NaN</td>\n",
       "      <td>0</td>\n",
       "    </tr>\n",
       "    <tr>\n",
       "      <th>3</th>\n",
       "      <td>4</td>\n",
       "      <td>Account Executive - Washington DC</td>\n",
       "      <td>US, DC, Washington</td>\n",
       "      <td>Sales</td>\n",
       "      <td>NaN</td>\n",
       "      <td>Our passion for improving quality of life thro...</td>\n",
       "      <td>THE COMPANY: ESRI – Environmental Systems Rese...</td>\n",
       "      <td>EDUCATION: Bachelor’s or Master’s in GIS, busi...</td>\n",
       "      <td>Our culture is anything but corporate—we have ...</td>\n",
       "      <td>0</td>\n",
       "      <td>1</td>\n",
       "      <td>0</td>\n",
       "      <td>Full-time</td>\n",
       "      <td>Mid-Senior level</td>\n",
       "      <td>Bachelor's Degree</td>\n",
       "      <td>Computer Software</td>\n",
       "      <td>Sales</td>\n",
       "      <td>0</td>\n",
       "    </tr>\n",
       "    <tr>\n",
       "      <th>4</th>\n",
       "      <td>5</td>\n",
       "      <td>Bill Review Manager</td>\n",
       "      <td>US, FL, Fort Worth</td>\n",
       "      <td>NaN</td>\n",
       "      <td>NaN</td>\n",
       "      <td>SpotSource Solutions LLC is a Global Human Cap...</td>\n",
       "      <td>JOB TITLE: Itemization Review ManagerLOCATION:...</td>\n",
       "      <td>QUALIFICATIONS:RN license in the State of Texa...</td>\n",
       "      <td>Full Benefits Offered</td>\n",
       "      <td>0</td>\n",
       "      <td>1</td>\n",
       "      <td>1</td>\n",
       "      <td>Full-time</td>\n",
       "      <td>Mid-Senior level</td>\n",
       "      <td>Bachelor's Degree</td>\n",
       "      <td>Hospital &amp; Health Care</td>\n",
       "      <td>Health Care Provider</td>\n",
       "      <td>0</td>\n",
       "    </tr>\n",
       "  </tbody>\n",
       "</table>\n",
       "</div>"
      ],
      "text/plain": [
       "   job_id                                      title            location  \\\n",
       "0       1                           Marketing Intern    US, NY, New York   \n",
       "1       2  Customer Service - Cloud Video Production      NZ, , Auckland   \n",
       "2       3    Commissioning Machinery Assistant (CMA)       US, IA, Wever   \n",
       "3       4          Account Executive - Washington DC  US, DC, Washington   \n",
       "4       5                        Bill Review Manager  US, FL, Fort Worth   \n",
       "\n",
       "  department salary_range                                    company_profile  \\\n",
       "0  Marketing          NaN  We're Food52, and we've created a groundbreaki...   \n",
       "1    Success          NaN  90 Seconds, the worlds Cloud Video Production ...   \n",
       "2        NaN          NaN  Valor Services provides Workforce Solutions th...   \n",
       "3      Sales          NaN  Our passion for improving quality of life thro...   \n",
       "4        NaN          NaN  SpotSource Solutions LLC is a Global Human Cap...   \n",
       "\n",
       "                                         description  \\\n",
       "0  Food52, a fast-growing, James Beard Award-winn...   \n",
       "1  Organised - Focused - Vibrant - Awesome!Do you...   \n",
       "2  Our client, located in Houston, is actively se...   \n",
       "3  THE COMPANY: ESRI – Environmental Systems Rese...   \n",
       "4  JOB TITLE: Itemization Review ManagerLOCATION:...   \n",
       "\n",
       "                                        requirements  \\\n",
       "0  Experience with content management systems a m...   \n",
       "1  What we expect from you:Your key responsibilit...   \n",
       "2  Implement pre-commissioning and commissioning ...   \n",
       "3  EDUCATION: Bachelor’s or Master’s in GIS, busi...   \n",
       "4  QUALIFICATIONS:RN license in the State of Texa...   \n",
       "\n",
       "                                            benefits  telecommuting  \\\n",
       "0                                                NaN              0   \n",
       "1  What you will get from usThrough being part of...              0   \n",
       "2                                                NaN              0   \n",
       "3  Our culture is anything but corporate—we have ...              0   \n",
       "4                              Full Benefits Offered              0   \n",
       "\n",
       "   has_company_logo  has_questions employment_type required_experience  \\\n",
       "0                 1              0           Other          Internship   \n",
       "1                 1              0       Full-time      Not Applicable   \n",
       "2                 1              0             NaN                 NaN   \n",
       "3                 1              0       Full-time    Mid-Senior level   \n",
       "4                 1              1       Full-time    Mid-Senior level   \n",
       "\n",
       "  required_education                   industry              function  \\\n",
       "0                NaN                        NaN             Marketing   \n",
       "1                NaN  Marketing and Advertising      Customer Service   \n",
       "2                NaN                        NaN                   NaN   \n",
       "3  Bachelor's Degree          Computer Software                 Sales   \n",
       "4  Bachelor's Degree     Hospital & Health Care  Health Care Provider   \n",
       "\n",
       "   fraudulent  \n",
       "0           0  \n",
       "1           0  \n",
       "2           0  \n",
       "3           0  \n",
       "4           0  "
      ]
     },
     "execution_count": 8,
     "metadata": {},
     "output_type": "execute_result"
    }
   ],
   "source": [
    "#Loading file into pandas dataframe\n",
    "fake = pd.read_csv('fake_job_postings.csv')\n",
    "fake.head()\n"
   ]
  },
  {
   "cell_type": "code",
   "execution_count": 4,
   "metadata": {},
   "outputs": [
    {
     "data": {
      "text/plain": [
       "(17880, 18)"
      ]
     },
     "execution_count": 4,
     "metadata": {},
     "output_type": "execute_result"
    }
   ],
   "source": [
    "#checking shape of pandas dataframe\n",
    "fake.shape"
   ]
  },
  {
   "cell_type": "code",
   "execution_count": 19,
   "metadata": {},
   "outputs": [
    {
     "data": {
      "text/plain": [
       "job_id                  int64\n",
       "title                  object\n",
       "location               object\n",
       "department             object\n",
       "salary_range           object\n",
       "company_profile        object\n",
       "description            object\n",
       "requirements           object\n",
       "benefits               object\n",
       "telecommuting           int64\n",
       "has_company_logo        int64\n",
       "has_questions           int64\n",
       "employment_type        object\n",
       "required_experience    object\n",
       "required_education     object\n",
       "industry               object\n",
       "function               object\n",
       "fraudulent              int64\n",
       "dtype: object"
      ]
     },
     "execution_count": 19,
     "metadata": {},
     "output_type": "execute_result"
    }
   ],
   "source": [
    "#inspecting data types of each pandas series\n",
    "fake.dtypes"
   ]
  },
  {
   "cell_type": "code",
   "execution_count": 9,
   "metadata": {},
   "outputs": [
    {
     "data": {
      "text/plain": [
       "job_id                     0\n",
       "title                      0\n",
       "location                 346\n",
       "department             11547\n",
       "salary_range           15012\n",
       "company_profile         3308\n",
       "description                1\n",
       "requirements            2695\n",
       "benefits                7210\n",
       "telecommuting              0\n",
       "has_company_logo           0\n",
       "has_questions              0\n",
       "employment_type         3471\n",
       "required_experience     7050\n",
       "required_education      8105\n",
       "industry                4903\n",
       "function                6455\n",
       "fraudulent                 0\n",
       "dtype: int64"
      ]
     },
     "execution_count": 9,
     "metadata": {},
     "output_type": "execute_result"
    }
   ],
   "source": [
    "#Checking for the number of empty nan values\n",
    "fake.isnull().sum()"
   ]
  },
  {
   "cell_type": "code",
   "execution_count": 21,
   "metadata": {},
   "outputs": [],
   "source": [
    "#assigning the mode of each column to the nan values\n",
    "fake['location']=fake['location'].fillna(fake['location'].mode()[0][0:])\n",
    "fake['company_profile']=fake['company_profile'].fillna(fake['company_profile'].mode()[0][0:])\n",
    "fake['description']=fake['description'].fillna(fake['description'].mode()[0][0:])\n",
    "fake['benefits']=fake['benefits'].fillna(fake['benefits'].mode()[0][0:])\n",
    "fake['requirements']=fake['requirements'].fillna(fake['requirements'].mode()[0][0:])\n",
    "fake['employment_type']=fake['employment_type'].fillna(fake['employment_type'].mode()[0][0:])\n",
    "fake['required_experience']=fake['required_experience'].fillna(fake['required_experience'].mode()[0][0:])\n",
    "fake['required_education']=fake['required_education'].fillna(fake['required_education'].mode()[0][0:])\n",
    "fake['industry']=fake['industry'].fillna(fake['industry'].mode()[0][0:])\n",
    "fake['function']=fake['function'].fillna(fake['function'].mode()[0][0:])"
   ]
  },
  {
   "cell_type": "code",
   "execution_count": 25,
   "metadata": {},
   "outputs": [],
   "source": [
    "#Removing the department and salary_range because of too much inconsistencies\n",
    "fake = fake.drop(['department','salary_range'], axis=1)"
   ]
  },
  {
   "cell_type": "code",
   "execution_count": 27,
   "metadata": {},
   "outputs": [
    {
     "data": {
      "text/plain": [
       "Index(['job_id', 'title', 'location', 'company_profile', 'description',\n",
       "       'requirements', 'benefits', 'telecommuting', 'has_company_logo',\n",
       "       'has_questions', 'employment_type', 'required_experience',\n",
       "       'required_education', 'industry', 'function', 'fraudulent'],\n",
       "      dtype='object')"
      ]
     },
     "execution_count": 27,
     "metadata": {},
     "output_type": "execute_result"
    }
   ],
   "source": [
    "#making sure the dropped columns were dropped\n",
    "fake.columns"
   ]
  },
  {
   "cell_type": "code",
   "execution_count": 35,
   "metadata": {},
   "outputs": [
    {
     "data": {
      "text/plain": [
       "array(['Information Technology and Services', 'Marketing and Advertising',\n",
       "       'Computer Software', 'Hospital & Health Care', 'Online Media',\n",
       "       'Financial Services', 'Management Consulting', 'Events Services',\n",
       "       'Internet', 'Facilities Services', 'Consumer Electronics',\n",
       "       'Telecommunications', 'Consumer Services', 'Construction',\n",
       "       'Oil & Energy', 'Education Management', 'Building Materials',\n",
       "       'Banking', 'Food & Beverages', 'Food Production',\n",
       "       'Health, Wellness and Fitness', 'Insurance', 'E-Learning',\n",
       "       'Cosmetics', 'Staffing and Recruiting',\n",
       "       'Venture Capital & Private Equity', 'Leisure, Travel & Tourism',\n",
       "       'Human Resources', 'Pharmaceuticals', 'Farming', 'Legal Services',\n",
       "       'Luxury Goods & Jewelry', 'Machinery', 'Real Estate',\n",
       "       'Mechanical or Industrial Engineering',\n",
       "       'Public Relations and Communications', 'Consumer Goods',\n",
       "       'Medical Practice', 'Electrical/Electronic Manufacturing',\n",
       "       'Hospitality', 'Music', 'Market Research', 'Automotive',\n",
       "       'Philanthropy', 'Utilities', 'Primary/Secondary Education',\n",
       "       'Logistics and Supply Chain', 'Design', 'Gambling & Casinos',\n",
       "       'Accounting', 'Environmental Services', 'Mental Health Care',\n",
       "       'Investment Management', 'Apparel & Fashion', 'Media Production',\n",
       "       'Publishing', 'Medical Devices', 'Information Services', 'Retail',\n",
       "       'Sports', 'Computer Games', 'Chemicals', 'Aviation & Aerospace',\n",
       "       'Business Supplies and Equipment', 'Program Development',\n",
       "       'Computer Networking', 'Biotechnology',\n",
       "       'Civic & Social Organization', 'Religious Institutions',\n",
       "       'Warehousing', 'Airlines/Aviation', 'Writing and Editing',\n",
       "       'Restaurants', 'Outsourcing/Offshoring',\n",
       "       'Transportation/Trucking/Railroad', 'Wireless',\n",
       "       'Investment Banking', 'Nonprofit Organization Management',\n",
       "       'Libraries', 'Computer Hardware', 'Broadcast Media', 'Printing',\n",
       "       'Graphic Design', 'Entertainment', 'Wholesale', 'Research',\n",
       "       'Animation', 'Government Administration', 'Capital Markets',\n",
       "       'Computer & Network Security', 'Semiconductors',\n",
       "       'Security and Investigations', 'Architecture & Planning',\n",
       "       'Maritime', 'Fund-Raising', 'Higher Education',\n",
       "       'Renewables & Environment', 'Motion Pictures and Film',\n",
       "       'Law Practice', 'Government Relations', 'Packaging and Containers',\n",
       "       'Sporting Goods', 'Mining & Metals', 'Import and Export',\n",
       "       'International Trade and Development',\n",
       "       'Professional Training & Coaching', 'Textiles',\n",
       "       'Commercial Real Estate', 'Law Enforcement',\n",
       "       'Package/Freight Delivery', 'Translation and Localization',\n",
       "       'Photography', 'Industrial Automation', 'Wine and Spirits',\n",
       "       'Public Safety', 'Civil Engineering', 'Military',\n",
       "       'Defense & Space', 'Veterinary', 'Executive Office',\n",
       "       'Performing Arts', 'Individual & Family Services', 'Public Policy',\n",
       "       'Nanotechnology', 'Museums and Institutions', 'Fishery',\n",
       "       'Plastics', 'Furniture', 'Shipbuilding',\n",
       "       'Alternative Dispute Resolution', 'Ranching'], dtype=object)"
      ]
     },
     "execution_count": 35,
     "metadata": {},
     "output_type": "execute_result"
    }
   ],
   "source": [
    "#Checking for industeries in the data set\n",
    "fake['industry'].unique()"
   ]
  },
  {
   "cell_type": "code",
   "execution_count": 31,
   "metadata": {},
   "outputs": [
    {
     "data": {
      "text/plain": [
       "131"
      ]
     },
     "execution_count": 31,
     "metadata": {},
     "output_type": "execute_result"
    }
   ],
   "source": [
    "#number of industeries in the dataset\n",
    "len(fake['industry'].unique())"
   ]
  },
  {
   "cell_type": "code",
   "execution_count": 53,
   "metadata": {},
   "outputs": [],
   "source": [
    "#filtering pandas series to get fraudulent industeris\n",
    "ind = fake['industry'].loc[fake['fraudulent']==1]"
   ]
  },
  {
   "cell_type": "code",
   "execution_count": 68,
   "metadata": {},
   "outputs": [
    {
     "data": {
      "text/plain": [
       "Information Technology and Services    307\n",
       "Oil & Energy                           109\n",
       "Accounting                              57\n",
       "Hospital & Health Care                  51\n",
       "Marketing and Advertising               45\n",
       "                                      ... \n",
       "Civic & Social Organization              1\n",
       "Public Safety                            1\n",
       "Wholesale                                1\n",
       "Consumer Goods                           1\n",
       "Online Media                             1\n",
       "Name: industry, Length: 62, dtype: int64"
      ]
     },
     "execution_count": 68,
     "metadata": {},
     "output_type": "execute_result"
    }
   ],
   "source": [
    "#returns pandas series showing the industeries and the number of fraudulent job postings\n",
    "plot = ind.value_counts()\n",
    "plot"
   ]
  },
  {
   "cell_type": "code",
   "execution_count": 67,
   "metadata": {},
   "outputs": [
    {
     "data": {
      "text/plain": [
       "<BarContainer object of 5 artists>"
      ]
     },
     "execution_count": 67,
     "metadata": {},
     "output_type": "execute_result"
    },
    {
     "data": {
      "image/png": "[encoded data removed]",
      "text/plain": [
       "<Figure size 432x288 with 1 Axes>"
      ]
     },
     "metadata": {
      "needs_background": "light"
     },
     "output_type": "display_data"
    }
   ],
   "source": [
    "#plotting the top five fraudulent industeries\n",
    "import matplotlib.pyplot as plt\n",
    "plt.bar(plot.index[:5], plot.values[:5])"
   ]
  },
  {
   "cell_type": "markdown",
   "metadata": {},
   "source": [
    "The industry with the highest number of fraudulent is Information Technology and services industry."
   ]
  }
 ],
 "metadata": {
  "kernelspec": {
   "display_name": "Python 3",
   "language": "python",
   "name": "python3"
  },
  "language_info": {
   "codemirror_mode": {
    "name": "ipython",
    "version": 3
   },
   "file_extension": ".py",
   "mimetype": "text/x-python",
   "name": "python",
   "nbconvert_exporter": "python",
   "pygments_lexer": "ipython3",
   "version": "3.7.3"
  }
 },
 "nbformat": 4,
 "nbformat_minor": 2
}
